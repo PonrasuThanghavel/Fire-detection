{
 "cells": [
  {
   "cell_type": "code",
   "execution_count": 2,
   "id": "5de8e84b-5f18-4e9f-8486-593fa06dad54",
   "metadata": {},
   "outputs": [
    {
     "name": "stdout",
     "output_type": "stream",
     "text": [
      "Found 3024 images belonging to 2 classes.\n",
      "Found 239 images belonging to 2 classes.\n"
     ]
    }
   ],
   "source": [
    "import os\n",
    "from keras.preprocessing.image import ImageDataGenerator\n",
    "\n",
    "base_dir = \"/Documents/fire-detection\"  # Replace with the actual base directory path\n",
    "\n",
    "training_dir = \"Datasets 1-2/Training\"\n",
    "validation_dir =  \"Datasets 1-2/Validation\"\n",
    "\n",
    "training_datagen = ImageDataGenerator(\n",
    "    rescale=1./255,\n",
    "    horizontal_flip=True,\n",
    "    rotation_range=30,\n",
    "    height_shift_range=0.2,\n",
    "    fill_mode='nearest'\n",
    ")\n",
    "\n",
    "validation_datagen = ImageDataGenerator(rescale=1./255)\n",
    "\n",
    "train_generator = training_datagen.flow_from_directory(\n",
    "    training_dir,\n",
    "    target_size=(224, 224),\n",
    "    class_mode='categorical',\n",
    "    batch_size=64\n",
    ")\n",
    "\n",
    "validation_generator = validation_datagen.flow_from_directory(\n",
    "    validation_dir,\n",
    "    target_size=(224, 224),\n",
    "    class_mode='categorical',\n",
    "    batch_size=16\n",
    ")\n"
   ]
  },
  {
   "cell_type": "code",
   "execution_count": 3,
   "id": "e49a13b2-498b-431a-be08-aa7ecaf8cfed",
   "metadata": {},
   "outputs": [
    {
     "name": "stderr",
     "output_type": "stream",
     "text": [
      "WARNING:absl:`lr` is deprecated in Keras optimizer, please use `learning_rate` or use the legacy optimizer, e.g.,tf.keras.optimizers.legacy.Adam.\n"
     ]
    },
    {
     "name": "stdout",
     "output_type": "stream",
     "text": [
      "Model: \"sequential\"\n",
      "_________________________________________________________________\n",
      " Layer (type)                Output Shape              Param #   \n",
      "=================================================================\n",
      " conv2d (Conv2D)             (None, 54, 54, 96)        34944     \n",
      "                                                                 \n",
      " max_pooling2d (MaxPooling2  (None, 26, 26, 96)        0         \n",
      " D)                                                              \n",
      "                                                                 \n",
      " conv2d_1 (Conv2D)           (None, 22, 22, 256)       614656    \n",
      "                                                                 \n",
      " max_pooling2d_1 (MaxPoolin  (None, 10, 10, 256)       0         \n",
      " g2D)                                                            \n",
      "                                                                 \n",
      " conv2d_2 (Conv2D)           (None, 6, 6, 384)         2457984   \n",
      "                                                                 \n",
      " max_pooling2d_2 (MaxPoolin  (None, 2, 2, 384)         0         \n",
      " g2D)                                                            \n",
      "                                                                 \n",
      " flatten (Flatten)           (None, 1536)              0         \n",
      "                                                                 \n",
      " dropout (Dropout)           (None, 1536)              0         \n",
      "                                                                 \n",
      " dense (Dense)               (None, 2048)              3147776   \n",
      "                                                                 \n",
      " dropout_1 (Dropout)         (None, 2048)              0         \n",
      "                                                                 \n",
      " dense_1 (Dense)             (None, 1024)              2098176   \n",
      "                                                                 \n",
      " dropout_2 (Dropout)         (None, 1024)              0         \n",
      "                                                                 \n",
      " dense_2 (Dense)             (None, 2)                 2050      \n",
      "                                                                 \n",
      "=================================================================\n",
      "Total params: 8355586 (31.87 MB)\n",
      "Trainable params: 8355586 (31.87 MB)\n",
      "Non-trainable params: 0 (0.00 Byte)\n",
      "_________________________________________________________________\n"
     ]
    }
   ],
   "source": [
    "from tensorflow.keras.optimizers import RMSprop,Adam\n",
    "model = tf.keras.models.Sequential([\n",
    "          tf.keras.layers.Conv2D(96, (11,11), strides=(4,4), activation='relu', input_shape=(224, 224, 3)),\n",
    "          tf.keras.layers.MaxPooling2D(pool_size = (3,3), strides=(2,2)),\n",
    "          tf.keras.layers.Conv2D(256, (5,5), activation='relu'),\n",
    "          tf.keras.layers.MaxPooling2D(pool_size = (3,3), strides=(2,2)),\n",
    "          tf.keras.layers.Conv2D(384, (5,5), activation='relu'),\n",
    "          tf.keras.layers.MaxPooling2D(pool_size = (3,3), strides=(2,2)),\n",
    "          tf.keras.layers.Flatten(),\n",
    "          tf.keras.layers.Dropout(0.2),\n",
    "          tf.keras.layers.Dense(2048, activation='relu'),\n",
    "          tf.keras.layers.Dropout(0.25),\n",
    "          tf.keras.layers.Dense(1024, activation='relu'),\n",
    "          tf.keras.layers.Dropout(0.2),\n",
    "          tf.keras.layers.Dense(2, activation='softmax')\n",
    "])\n",
    "model.compile(loss='categorical_crossentropy',\n",
    "              optimizer=Adam(lr=0.0001),\n",
    "              metrics=['acc'])\n",
    "model.summary()"
   ]
  },
  {
   "cell_type": "code",
   "execution_count": 4,
   "id": "67f61438-0b99-4e29-89bf-c17ef7fa5603",
   "metadata": {},
   "outputs": [
    {
     "name": "stdout",
     "output_type": "stream",
     "text": [
      "Epoch 1/10\n",
      "15/15 [==============================] - 53s 3s/step - loss: 1.0063 - acc: 0.6009 - val_loss: 0.5380 - val_acc: 0.7448\n",
      "Epoch 2/10\n",
      "15/15 [==============================] - 59s 4s/step - loss: 0.5780 - acc: 0.7029 - val_loss: 0.4573 - val_acc: 0.8243\n",
      "Epoch 3/10\n",
      "15/15 [==============================] - 51s 3s/step - loss: 0.4431 - acc: 0.8289 - val_loss: 0.5426 - val_acc: 0.8243\n",
      "Epoch 4/10\n",
      "15/15 [==============================] - 47s 3s/step - loss: 0.4500 - acc: 0.7979 - val_loss: 0.4263 - val_acc: 0.8452\n",
      "Epoch 5/10\n",
      "15/15 [==============================] - 56s 4s/step - loss: 0.3548 - acc: 0.8479 - val_loss: 0.3731 - val_acc: 0.8787\n",
      "Epoch 6/10\n",
      "15/15 [==============================] - 53s 4s/step - loss: 0.3071 - acc: 0.8640 - val_loss: 0.3392 - val_acc: 0.9038\n",
      "Epoch 7/10\n",
      "15/15 [==============================] - 51s 3s/step - loss: 0.3323 - acc: 0.8635 - val_loss: 0.3472 - val_acc: 0.8828\n",
      "Epoch 8/10\n",
      "15/15 [==============================] - 49s 3s/step - loss: 0.3999 - acc: 0.8438 - val_loss: 0.3154 - val_acc: 0.8954\n",
      "Epoch 9/10\n",
      "15/15 [==============================] - 46s 3s/step - loss: 0.3462 - acc: 0.8625 - val_loss: 0.3749 - val_acc: 0.8912\n",
      "Epoch 10/10\n",
      "15/15 [==============================] - 47s 3s/step - loss: 0.3265 - acc: 0.8698 - val_loss: 0.3449 - val_acc: 0.8912\n"
     ]
    }
   ],
   "source": [
    "\n",
    "history = model.fit(\n",
    "    train_generator,\n",
    "    steps_per_epoch = 15,\n",
    "    epochs = 10,\n",
    "    validation_data = validation_generator,\n",
    "    validation_steps = 15\n",
    "    \n",
    ")"
   ]
  },
  {
   "cell_type": "code",
   "execution_count": null,
   "id": "68204521-8dfd-44b9-a083-ed455bf7fc0f",
   "metadata": {},
   "outputs": [],
   "source": [
    "!curl -L \"https://universe.roboflow.com/ds/9UNEzsyb6e?key=4goarGAALs\" &gt; roboflow.zip; unzip roboflow.zip; rm roboflow.zip"
   ]
  },
  {
   "cell_type": "code",
   "execution_count": null,
   "id": "8c983712-8d8d-482e-af31-b38280df5e1f",
   "metadata": {},
   "outputs": [],
   "source": []
  },
  {
   "cell_type": "code",
   "execution_count": 6,
   "id": "ef9ebaf8-7636-4308-945e-2a5fcf715b20",
   "metadata": {},
   "outputs": [
    {
     "name": "stdout",
     "output_type": "stream",
     "text": [
      "1/1 [==============================] - 0s 113ms/step\n",
      "True 0.98849654\n"
     ]
    }
   ],
   "source": [
    "import numpy as np\n",
    "from keras.preprocessing import image\n",
    "\n",
    "# Assuming you have already loaded and defined the 'model' variable\n",
    "\n",
    "image_path = 'OIP.jpg'\n",
    "img = image.load_img(image_path, target_size=(224, 224))\n",
    "x = image.img_to_array(img)\n",
    "x = np.expand_dims(x, axis=0) / 255.0  # Normalize the image by dividing by 255.0\n",
    "classes = model.predict(x)\n",
    "prediction = np.argmax(classes[0])  # Get the index of the predicted class\n",
    "confidence = classes[0][prediction]  # Get the confidence/probability of the predicted class\n",
    "\n",
    "print(prediction == 0, confidence)\n"
   ]
  },
  {
   "cell_type": "code",
   "execution_count": null,
   "id": "a80d2a75-168a-4f33-a11a-e6cd867e1ac6",
   "metadata": {},
   "outputs": [],
   "source": []
  },
  {
   "cell_type": "code",
   "execution_count": 9,
   "id": "eb8e8e7e-f3a8-484f-bd32-c7a2a7b40ec4",
   "metadata": {},
   "outputs": [
    {
     "name": "stdout",
     "output_type": "stream",
     "text": [
      "Found 1800 images belonging to 2 classes.\n",
      "Found 200 images belonging to 2 classes.\n"
     ]
    },
    {
     "name": "stderr",
     "output_type": "stream",
     "text": [
      "WARNING:absl:`lr` is deprecated in Keras optimizer, please use `learning_rate` or use the legacy optimizer, e.g.,tf.keras.optimizers.legacy.Adam.\n"
     ]
    },
    {
     "name": "stdout",
     "output_type": "stream",
     "text": [
      "Epoch 1/10\n",
      "15/15 [==============================] - 18s 1s/step - loss: 1.0980 - acc: 0.5479 - val_loss: 0.7933 - val_acc: 0.0667\n",
      "Epoch 2/10\n",
      "15/15 [==============================] - 16s 1s/step - loss: 0.6227 - acc: 0.6708 - val_loss: 0.3914 - val_acc: 0.7333\n",
      "Epoch 3/10\n",
      "15/15 [==============================] - 16s 1s/step - loss: 0.6476 - acc: 0.6360 - val_loss: 0.6336 - val_acc: 0.6000\n",
      "Epoch 4/10\n",
      "15/15 [==============================] - 17s 1s/step - loss: 0.4809 - acc: 0.8125 - val_loss: 0.8906 - val_acc: 0.6667\n",
      "Epoch 5/10\n",
      "15/15 [==============================] - 16s 1s/step - loss: 0.4577 - acc: 0.7937 - val_loss: 0.1849 - val_acc: 0.8000\n",
      "Epoch 6/10\n",
      "15/15 [==============================] - 17s 1s/step - loss: 0.3602 - acc: 0.8646 - val_loss: 0.1422 - val_acc: 0.9333\n",
      "Epoch 7/10\n",
      "15/15 [==============================] - 16s 1s/step - loss: 0.3265 - acc: 0.8729 - val_loss: 0.6656 - val_acc: 0.7333\n",
      "Epoch 8/10\n",
      "15/15 [==============================] - 16s 1s/step - loss: 0.2808 - acc: 0.8792 - val_loss: 0.4289 - val_acc: 0.8000\n",
      "Epoch 9/10\n",
      "15/15 [==============================] - 16s 1s/step - loss: 0.2711 - acc: 0.9083 - val_loss: 0.8316 - val_acc: 0.6667\n",
      "Epoch 10/10\n",
      "15/15 [==============================] - 16s 1s/step - loss: 0.3172 - acc: 0.8687 - val_loss: 0.6648 - val_acc: 0.7333\n"
     ]
    },
    {
     "data": {
      "image/png": "[encoded data removed]",
      "text/plain": [
       "<Figure size 640x480 with 1 Axes>"
      ]
     },
     "metadata": {},
     "output_type": "display_data"
    },
    {
     "data": {
      "image/png": "[encoded data removed]",
      "text/plain": [
       "<Figure size 640x480 with 1 Axes>"
      ]
     },
     "metadata": {},
     "output_type": "display_data"
    },
    {
     "name": "stdout",
     "output_type": "stream",
     "text": [
      "200/200 [==============================] - 3s 14ms/step\n",
      "Accuracy: 0.835\n",
      "F1 Score: 0.8307692307692308\n",
      "[[86 14]\n",
      " [19 81]]\n",
      "\n",
      "Score Table:\n",
      "Metric     Score     \n",
      "Accuracy   0.835     \n",
      "F1 Score   0.8307692307692308\n"
     ]
    }
   ],
   "source": [
    "import numpy as np\n",
    "import tensorflow as tf\n",
    "from sklearn.metrics import accuracy_score, f1_score, confusion_matrix\n",
    "import matplotlib.pyplot as plt\n",
    "from keras.preprocessing.image import ImageDataGenerator\n",
    "\n",
    "# Assuming you have already loaded and defined the 'model' variable\n",
    "\n",
    "TRAIN_DIR = \"Dataset 3/Train\"\n",
    "TEST_DIR = \"Dataset 3/Test\"\n",
    "\n",
    "# Define data generators\n",
    "train_datagen = ImageDataGenerator(rescale=1./255)\n",
    "test_datagen = ImageDataGenerator(rescale=1./255)\n",
    "\n",
    "# Set up training data generator\n",
    "train_generator = train_datagen.flow_from_directory(\n",
    "    TRAIN_DIR,\n",
    "    target_size=(224, 224),\n",
    "    class_mode='categorical',\n",
    "    batch_size=32,\n",
    "    shuffle=True\n",
    ")\n",
    "\n",
    "# Set up test data generator\n",
    "test_generator = test_datagen.flow_from_directory(\n",
    "    TEST_DIR,\n",
    "    target_size=(224, 224),\n",
    "    class_mode='categorical',\n",
    "    batch_size=1,\n",
    "    shuffle=False\n",
    ")\n",
    "\n",
    "# Define the model\n",
    "model = tf.keras.models.Sequential([\n",
    "    tf.keras.layers.Conv2D(96, (11, 11), strides=(4, 4), activation='relu', input_shape=(224, 224, 3)),\n",
    "    tf.keras.layers.MaxPooling2D(pool_size=(3, 3), strides=(2, 2)),\n",
    "    tf.keras.layers.Conv2D(256, (5, 5), activation='relu'),\n",
    "    tf.keras.layers.MaxPooling2D(pool_size=(3, 3), strides=(2, 2)),\n",
    "    tf.keras.layers.Conv2D(384, (5, 5), activation='relu'),\n",
    "    tf.keras.layers.MaxPooling2D(pool_size=(3, 3), strides=(2, 2)),\n",
    "    tf.keras.layers.Flatten(),\n",
    "    tf.keras.layers.Dropout(0.2),\n",
    "    tf.keras.layers.Dense(2048, activation='relu'),\n",
    "    tf.keras.layers.Dropout(0.25),\n",
    "    tf.keras.layers.Dense(1024, activation='relu'),\n",
    "    tf.keras.layers.Dropout(0.2),\n",
    "    tf.keras.layers.Dense(2, activation='softmax')\n",
    "])\n",
    "\n",
    "# Compile the model\n",
    "model.compile(loss='categorical_crossentropy',\n",
    "              optimizer=tf.keras.optimizers.Adam(lr=0.0001),\n",
    "              metrics=['acc'])\n",
    "\n",
    "# Train the model and obtain the history object\n",
    "history = model.fit(\n",
    "    train_generator,\n",
    "    steps_per_epoch=15,\n",
    "    epochs=10,\n",
    "    validation_data=test_generator,\n",
    "    validation_steps=15\n",
    ")\n",
    "\n",
    "# Plot accuracy over epochs\n",
    "plt.plot(history.history['acc'])\n",
    "plt.plot(history.history['val_acc'])\n",
    "plt.title('Model Accuracy')\n",
    "plt.xlabel('Epoch')\n",
    "plt.ylabel('Accuracy')\n",
    "plt.legend(['Train', 'Validation'], loc='upper left')\n",
    "plt.show()\n",
    "\n",
    "# Plot loss over epochs\n",
    "plt.plot(history.history['loss'])\n",
    "plt.plot(history.history['val_loss'])\n",
    "plt.title('Model Loss')\n",
    "plt.xlabel('Epoch')\n",
    "plt.ylabel('Loss')\n",
    "plt.legend(['Train', 'Validation'], loc='upper right')\n",
    "plt.show()\n",
    "\n",
    "# Make predictions on the test data\n",
    "test_predictions = model.predict(test_generator)\n",
    "predicted_labels = np.argmax(test_predictions, axis=1)\n",
    "\n",
    "# Get the true labels\n",
    "true_labels = test_generator.classes\n",
    "\n",
    "# Calculate accuracy\n",
    "accuracy = accuracy_score(true_labels, predicted_labels)\n",
    "print('Accuracy:', accuracy)\n",
    "\n",
    "# Calculate F1 score\n",
    "f1 = f1_score(true_labels, predicted_labels)\n",
    "print('F1 Score:', f1)\n",
    "\n",
    "# Create confusion matrix\n",
    "cm = confusion_matrix(true_labels, predicted_labels)\n",
    "print(cm)\n",
    "\n",
    "# Print scores in a table\n",
    "score_table = [['Metric', 'Score'],\n",
    "               ['Accuracy', accuracy],\n",
    "               ['F1 Score', f1]]\n",
    "print('\\nScore Table:')\n",
    "for row in score_table:\n",
    "    print('{:<10} {:<10}'.format(row[0], row[1]))\n"
   ]
  },
  {
   "cell_type": "code",
   "execution_count": 10,
   "id": "2d673a58-7fc5-43af-b0fd-39e763b4c7c7",
   "metadata": {},
   "outputs": [
    {
     "name": "stdout",
     "output_type": "stream",
     "text": [
      "Found 200 images belonging to 2 classes.\n",
      "200/200 [==============================] - 3s 13ms/step\n",
      "      Metric     Score\n",
      "0   Accuracy  0.815000\n",
      "1  Precision  0.909091\n",
      "2     Recall  0.700000\n",
      "3   F1 Score  0.790960\n",
      "\n",
      "Confusion Matrix:\n",
      "[[93  7]\n",
      " [30 70]]\n"
     ]
    }
   ],
   "source": [
    "import numpy as np\n",
    "import tensorflow as tf\n",
    "from sklearn.metrics import accuracy_score, precision_score, recall_score, f1_score, confusion_matrix\n",
    "import pandas as pd\n",
    "\n",
    "# Assuming you have already loaded and defined the 'model' variable\n",
    "\n",
    "TEST_DIR = \"Dataset 3/Test\"\n",
    "test_datagen = ImageDataGenerator(rescale=1./255)\n",
    "\n",
    "test_generator = test_datagen.flow_from_directory(\n",
    "    TEST_DIR,\n",
    "    target_size=(224, 224),\n",
    "    class_mode='categorical',\n",
    "    batch_size=1,\n",
    "    shuffle=False\n",
    ")\n",
    "\n",
    "model = tf.keras.models.load_model('Fire_detection.keras')\n",
    "\n",
    "# Make predictions on the test data\n",
    "test_predictions = model.predict(test_generator)\n",
    "predicted_labels = np.argmax(test_predictions, axis=1)\n",
    "\n",
    "# Get the true labels\n",
    "true_labels = test_generator.classes\n",
    "\n",
    "# Calculate accuracy\n",
    "accuracy = accuracy_score(true_labels, predicted_labels)\n",
    "\n",
    "# Calculate precision\n",
    "precision = precision_score(true_labels, predicted_labels)\n",
    "\n",
    "# Calculate recall\n",
    "recall = recall_score(true_labels, predicted_labels)\n",
    "\n",
    "# Calculate F1 score\n",
    "f1 = f1_score(true_labels, predicted_labels)\n",
    "\n",
    "# Create confusion matrix\n",
    "cm = confusion_matrix(true_labels, predicted_labels)\n",
    "\n",
    "# Print scores in a table\n",
    "score_table = pd.DataFrame(\n",
    "    {\n",
    "        'Metric': ['Accuracy', 'Precision', 'Recall', 'F1 Score'],\n",
    "        'Score': [accuracy, precision, recall, f1]\n",
    "    }\n",
    ")\n",
    "print(score_table)\n",
    "print('\\nConfusion Matrix:')\n",
    "print(cm)\n"
   ]
  },
  {
   "cell_type": "code",
   "execution_count": 13,
   "id": "dcee3809-8a2f-41e0-b66a-c2ddb395729d",
   "metadata": {},
   "outputs": [],
   "source": [
    "model.save('Fire_detection.h5')"
   ]
  }
 ],
 "metadata": {
  "kernelspec": {
   "display_name": "Python 3 (ipykernel)",
   "language": "python",
   "name": "python3"
  },
  "language_info": {
   "codemirror_mode": {
    "name": "ipython",
    "version": 3
   },
   "file_extension": ".py",
   "mimetype": "text/x-python",
   "name": "python",
   "nbconvert_exporter": "python",
   "pygments_lexer": "ipython3",
   "version": "3.10.9"
  }
 },
 "nbformat": 4,
 "nbformat_minor": 5
}
